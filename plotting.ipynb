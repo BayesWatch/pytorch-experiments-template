{
 "cells": [
  {
   "cell_type": "code",
   "execution_count": null,
   "metadata": {},
   "outputs": [],
   "source": [
    "%load_ext autoreload\n",
    "%reload_ext autoreload\n",
    "import numpy as np\n",
    "import matplotlib.pyplot as plt\n",
    "from matplotlib.colors import ListedColormap\n",
    "import seaborn as sns\n",
    "sns.set()\n",
    "sns.set_style(\"darkgrid\")\n",
    "from utils import *\n",
    "import scipy.misc\n",
    "import glob\n",
    "import operator\n",
    "from utils.metric_tracking import MetricTracker\n",
    "import os.path\n"
   ]
  },
  {
   "cell_type": "markdown",
   "metadata": {},
   "source": [
    "## Read and collect results from a target log directory\n",
    "\n",
    "Checking the target directory, find all folders (each of which is an experiment), and create a metric tracking object for each of these, wrt train, valid, and test (if they exist)"
   ]
  },
  {
   "cell_type": "code",
   "execution_count": null,
   "metadata": {},
   "outputs": [],
   "source": [
    "target_directory = 'log'\n",
    "folders = glob.glob(\"{}/*/\".format(target_directory))\n",
    "collected_results = {}\n",
    "for folder in folders:\n",
    "    experiment = folder.split('/')[-2]\n",
    "    collected_results[experiment] = {}\n",
    "    if os.path.isfile('{}/{}/summary_logs/metrics_training.pt'.format(target_directory, experiment)):\n",
    "        collected_results[experiment]['training'] = MetricTracker(load=True, \n",
    "                                                               path='{}/{}/summary_logs/metrics_training.pt'.format(target_directory, experiment),\n",
    "                                                               tracker_name='training')\n",
    "    if os.path.isfile('{}/{}/summary_logs/metrics_validation.pt'.format(target_directory, experiment)):\n",
    "        collected_results[experiment]['validation'] = MetricTracker(load=True, \n",
    "                                                               path='{}/{}/summary_logs/metrics_validation.pt'.format(target_directory, experiment),\n",
    "                                                               tracker_name='validation')\n",
    "    if os.path.isfile('{}/{}/summary_logs/metrics_testing.pt'.format(target_directory, experiment)):\n",
    "        collected_results[experiment]['testing'] = MetricTracker(load=True, \n",
    "                                                               path='{}/{}/summary_logs/metrics_testing.pt'.format(target_directory, experiment),\n",
    "                                                               tracker_name='testing')\n"
   ]
  },
  {
   "cell_type": "markdown",
   "metadata": {},
   "source": [
    "## Neaten things up\n",
    "\n",
    "Often experiments will be named with more infomation than strictly necessary for plotting and this can be untidy. Here we make choices re: neatening nameing wrt experiment names, results to be plotted, etc. "
   ]
  },
  {
   "cell_type": "code",
   "execution_count": null,
   "metadata": {},
   "outputs": [],
   "source": [
    "experiments_to_keep = []\n",
    "must_have_keywords = []\n",
    "\n",
    "if len(experiments_to_keep):\n",
    "    filtered_results = { exp: collected_results[exp] for exp in experiments_to_keep if exp in collected_results.keys()}\n",
    "elif len(must_have_keywords):\n",
    "    filtered_results = { exp: collected_results[exp] for exp in collected_results.keys() if all(x in exp for x in must_have_keywords)}\n",
    "else:\n",
    "    filtered_results = collected_results\n",
    "if not len(filtered_results) and len(collected_results):\n",
    "    print('No keys from filter found, keeping all')\n",
    "    filtered_results = collected_results\n",
    "num_experiments = len(filtered_results)\n",
    "print('{} experiments filtered in. Keeping:'.format(num_experiments))\n",
    "for key in filtered_results.keys():\n",
    "    print('\\t{}'.format(key))\n"
   ]
  },
  {
   "cell_type": "code",
   "execution_count": null,
   "metadata": {},
   "outputs": [],
   "source": [
    "metrics_to_plot = {\n",
    "    'Loss (Cross Entropy)':('cross_entropy_mean', [0, 1]),\n",
    "    'Accuracy':('accuracy_mean', None),\n",
    "}\n",
    "\n",
    "linestyles = {\n",
    "    'training':'-',\n",
    "    'validation':'--',\n",
    "    'testing':':',\n",
    "}\n",
    "\n",
    "alphas = {\n",
    "    'training':1.0,\n",
    "    'validation':0.7,\n",
    "    'testing':0.5,\n",
    "}\n",
    "\n",
    "splits_to_plot = ['training', 'validation', 'testing']\n",
    "\n",
    "plot_names = {}\n",
    "\n",
    "colour_type = 'muted'\n",
    "if colour_type.lower() == 'hls':\n",
    "    colours = sns.hls_palette(num_experiments, l=0.4, s=1)\n",
    "elif colour_type.lower() == 'bright':\n",
    "    colours = sns.color_palette('bright', num_experiments)\n",
    "elif colour_type.lower() == 'deep':\n",
    "    colours = sns.color_palette('deep', num_experiments)\n",
    "elif colour_type.lower() == 'muted':\n",
    "    colours = sns.color_palette('muted', num_experiments)\n",
    "elif colour_type.lower() == 'pastel':\n",
    "    colours = sns.color_palette('pastel', num_experiments)\n",
    "elif colour_type.lower() == 'cubehelix':\n",
    "    colours = sns.color_palette('cubehelix', num_experiments)\n",
    "elif colour_type.lower() == 'blues':\n",
    "    colours = sns.color_palette('Blues', num_experiments)\n",
    "elif colour_type.lower() == 'reds':\n",
    "    colours = sns.color_palette('Reds', num_experiments)\n",
    "else:\n",
    "    colours = sns.hls_palette(num_experiments, l=0.4, s=1)\n",
    "print('Colours chosen:')\n",
    "sns.palplot(colours)\n",
    "\n",
    "\n",
    "linewidth = 2.5\n",
    "columns = 1\n",
    "rows = int(np.ceil(len(metrics_to_plot)/columns))\n",
    "save_format = 'png'\n",
    "print('Going to plot {} rows of {} column(s) and save as a {} in: {}/results.{}'.format(rows, columns, save_format, target_directory, save_format))"
   ]
  },
  {
   "cell_type": "markdown",
   "metadata": {},
   "source": [
    "## Do the actual plotting here"
   ]
  },
  {
   "cell_type": "code",
   "execution_count": null,
   "metadata": {},
   "outputs": [],
   "source": [
    "figure = plt.figure(figsize=(14, 7 * rows))\n",
    "for axi, (metric_name, (metric_identifier, y_limits)) in enumerate(metrics_to_plot.items()):\n",
    "    ax = figure.add_subplot(rows, columns, axi+1)\n",
    "    for expi, (experiment_name, metric_tracker) in enumerate(filtered_results.items()):\n",
    "        if experiment_name in plot_names:\n",
    "            experiment_name = plot_names[experiment_name]\n",
    "        \n",
    "        for which_split in splits_to_plot:\n",
    "            if which_split in metric_tracker:\n",
    "                per_epoch_results = metric_tracker[which_split].collect_per_epoch()\n",
    "                epochs = per_epoch_results['epochs']\n",
    "                if metric_identifier in per_epoch_results:\n",
    "                    ax.plot(\n",
    "                        epochs,                         \n",
    "                        per_epoch_results[metric_identifier],\n",
    "                        color=colours[expi], \n",
    "                        label='({}) {} ({:0.4f})'.format(which_split, experiment_name, per_epoch_results[metric_identifier][-1]),\n",
    "                        alpha=alphas[which_split], \n",
    "                        linewidth=linewidth,\n",
    "                        linestyle=linestyles[which_split],\n",
    "                    )\n",
    "    if y_limits is not None:\n",
    "        ax.set_ylim(y_limits[0], y_limits[1])\n",
    "    ax.legend(frameon=False, ncol=1)\n",
    "    ax.set_xlabel('Epochs')\n",
    "    ax.set_ylabel(metric_name)\n",
    "    \n",
    "figure.tight_layout()\n",
    "figure.savefig('{}/results.{}'.format(target_directory, save_format))\n"
   ]
  }
 ],
 "metadata": {
  "kernelspec": {
   "display_name": "Python 3",
   "language": "python",
   "name": "python3"
  },
  "language_info": {
   "codemirror_mode": {
    "name": "ipython",
    "version": 3
   },
   "file_extension": ".py",
   "mimetype": "text/x-python",
   "name": "python",
   "nbconvert_exporter": "python",
   "pygments_lexer": "ipython3",
   "version": "3.8.3"
  }
 },
 "nbformat": 4,
 "nbformat_minor": 4
}
